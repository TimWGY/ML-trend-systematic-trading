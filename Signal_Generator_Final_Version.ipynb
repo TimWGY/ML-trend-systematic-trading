{
 "cells": [
  {
   "cell_type": "markdown",
   "metadata": {},
   "source": [
    "## A Machine Learning Approach to Combine the Trend-following and Counter-trend Trading Strategies"
   ]
  },
  {
   "cell_type": "markdown",
   "metadata": {},
   "source": [
    "### Signal preparation file: Generate a series of X variables from raw data for our model, namely:\n",
    "* Moving average, moving vol, daily price range (with different time windows)\n",
    "* Normalize indicators in (1) and get their z-values (with different time windows)\n",
    "* Macro data: CPI, GDP, civilian unemployment rate, FED fund rate, yield spread (T10Y2Y)\n",
    "<br>*However, macro data are much lower in frequency compared to daily S&P data, and they proved to contribute little to prediction accuracy in our trials, so macro data are dropped in the final prediction model.*"
   ]
  },
  {
   "cell_type": "markdown",
   "metadata": {},
   "source": [
    "### Import Packages"
   ]
  },
  {
   "cell_type": "code",
   "execution_count": 1,
   "metadata": {
    "collapsed": true
   },
   "outputs": [],
   "source": [
    "import warnings\n",
    "warnings.filterwarnings('ignore')\n",
    "import pandas as pd\n",
    "import numpy as np\n",
    "import seaborn as sns\n",
    "import matplotlib.pyplot as plt\n",
    "% matplotlib inline\n",
    "from sklearn.preprocessing import MinMaxScaler\n",
    "from sklearn.preprocessing import PolynomialFeatures\n",
    "from sklearn.linear_model import LinearRegression\n",
    "from sklearn.linear_model import SGDRegressor\n",
    "from sklearn.pipeline import Pipeline\n",
    "from sklearn.model_selection import RandomizedSearchCV\n",
    "from sklearn.model_selection import GridSearchCV\n",
    "from sklearn.preprocessing import Imputer\n",
    "from sklearn.decomposition import PCA\n",
    "from sklearn.metrics import make_scorer"
   ]
  },
  {
   "cell_type": "markdown",
   "metadata": {},
   "source": [
    "### Functions: Read & Clean Data"
   ]
  },
  {
   "cell_type": "code",
   "execution_count": 2,
   "metadata": {
    "collapsed": true
   },
   "outputs": [],
   "source": [
    "def standardizeTimeString(timeString):\n",
    "    if '-' in timeString:\n",
    "        timeStringList = timeString.split('-')\n",
    "    elif '/' in timeString:\n",
    "        timeStringList = timeString.split('/')\n",
    "    add_zero = '0' if len(timeStringList[1])==1 else ''\n",
    "    add_zero2 = '0' if len(timeStringList[2])==1 else ''\n",
    "    output = '/'.join([timeStringList[0], add_zero + timeStringList[1], add_zero2 + timeStringList[2]])\n",
    "    return output"
   ]
  },
  {
   "cell_type": "code",
   "execution_count": 3,
   "metadata": {
    "collapsed": true
   },
   "outputs": [],
   "source": [
    "def read_and_clean_df(filename):\n",
    "    df = pd.read_csv(filename)\n",
    "    original_length = len(df)\n",
    "    df.dropna(inplace=True)\n",
    "    df.reset_index(drop=True,inplace=True)\n",
    "    cleaned_length = len(df)\n",
    "    if 'Date' in df.columns:\n",
    "        df['Date'] = df['Date'].apply(lambda x: standardizeTimeString(x)) \n",
    "        if len(set(list(df['Date']))) != len(list(df['Date'])):\n",
    "            print(\"Alert: duplicate dates discovered, not handled yet.\")\n",
    "    print(\"%d rows of data is read\\n%d rows are cleaned\\n%d rows remained\\nThere are %d columns\" % (original_length,original_length-cleaned_length,cleaned_length,len(df.columns)))\n",
    "    return df"
   ]
  },
  {
   "cell_type": "code",
   "execution_count": 4,
   "metadata": {},
   "outputs": [
    {
     "name": "stdout",
     "output_type": "stream",
     "text": [
      "5515 rows of data is read\n",
      "0 rows are cleaned\n",
      "5515 rows remained\n",
      "There are 5 columns\n"
     ]
    }
   ],
   "source": [
    "sp_future = read_and_clean_df('S&P_Futures_data.csv')"
   ]
  },
  {
   "cell_type": "code",
   "execution_count": 5,
   "metadata": {
    "collapsed": true
   },
   "outputs": [],
   "source": [
    "df = sp_future.copy()"
   ]
  },
  {
   "cell_type": "markdown",
   "metadata": {},
   "source": [
    "### Functions: Calculate Daily Returns, Future N-Day Returns, Previous N-Day Returns"
   ]
  },
  {
   "cell_type": "code",
   "execution_count": 6,
   "metadata": {
    "collapsed": true
   },
   "outputs": [],
   "source": [
    "def calEndOfDayRet(df,col = 'Close'):\n",
    "    df['past_Close'] = df[col].shift(1)\n",
    "    df['eodRet'] = df.apply(lambda row: row['Close']/row['past_Close']-1, axis = 1)\n",
    "    df.drop('past_Close',axis = 1,inplace = True)"
   ]
  },
  {
   "cell_type": "code",
   "execution_count": 7,
   "metadata": {
    "collapsed": true
   },
   "outputs": [],
   "source": [
    "calEndOfDayRet(df)"
   ]
  },
  {
   "cell_type": "code",
   "execution_count": 8,
   "metadata": {
    "collapsed": true
   },
   "outputs": [],
   "source": [
    "def calFret(df,period,col = 'Close'):\n",
    "    df['future_Close'] = df[col].shift(-period)\n",
    "    df['fret'+str(period)] = df.apply(lambda row: row['future_Close']/row['Close']-1, axis = 1)\n",
    "    df.drop('future_Close',axis = 1,inplace = True)"
   ]
  },
  {
   "cell_type": "code",
   "execution_count": 9,
   "metadata": {
    "collapsed": true
   },
   "outputs": [],
   "source": [
    "def calPret(df,period,col = 'Close'):\n",
    "    df['past_Close'] = df[col].shift(period+1)\n",
    "    df['yesterday_Close'] = df[col].shift(1)\n",
    "    df['pret'+str(period)] = df.apply(lambda row: row['yesterday_Close']/row['past_Close']-1, axis = 1)\n",
    "    df.drop('yesterday_Close',axis = 1,inplace = True)\n",
    "    df.drop('past_Close',axis = 1,inplace = True)"
   ]
  },
  {
   "cell_type": "code",
   "execution_count": 10,
   "metadata": {
    "collapsed": true
   },
   "outputs": [],
   "source": [
    "for p in [1,3,5,10,20,30,60,100]:\n",
    "    #calFret(df,p,col = 'Close')\n",
    "    calPret(df,p,col = 'Close')"
   ]
  },
  {
   "cell_type": "markdown",
   "metadata": {},
   "source": [
    "### Functions: Calculate SMA, EMA"
   ]
  },
  {
   "cell_type": "code",
   "execution_count": 11,
   "metadata": {
    "collapsed": true
   },
   "outputs": [],
   "source": [
    "def calSMA(df,period,col = 'Close'):\n",
    "    df['SMA_'+str(period)] = df[col].rolling(window=period).mean()\n",
    "\n",
    "#   k = numerator/(period + 1) #weighting_multiplier\n",
    "#   EMA_today = EMA_yesterday*(1-k) + current_price*k\n",
    "\n",
    "def calEMA(df,period,col = 'Close',numerator = 2):\n",
    "    df.reset_index()\n",
    "    k = numerator/(period + 1) #weighting_multiplier\n",
    "    col_name = 'EMA_'+str(period)\n",
    "    df[col_name]= np.nan\n",
    "    # Initialize the first mean\n",
    "    df.loc[period-1,col_name] = df.loc[range(0,period),col].mean()    \n",
    "    # EMA calculation\n",
    "    for i in range(len(df[col])-period):\n",
    "        df.loc[period+i,col_name] = df.loc[period+i-1,col_name]*(1-k) + df.loc[period+i,col]*k"
   ]
  },
  {
   "cell_type": "markdown",
   "metadata": {},
   "source": [
    "### Functions: Calculate Sortino Ratio"
   ]
  },
  {
   "cell_type": "code",
   "execution_count": 12,
   "metadata": {
    "collapsed": true
   },
   "outputs": [],
   "source": [
    "def calMV(df,period,col = 'Close'):\n",
    "    df['MV_'+str(period)] = df[col].rolling(window=period).std()\n",
    "    \n",
    "def calSortinoMV(df,period,col = 'Close'):\n",
    "    whole_data = list(df[col])\n",
    "    result_list = []\n",
    "    for i in range(period-1):\n",
    "        result_list.append(np.nan)\n",
    "    for k in range(len(df)-(period-1)):\n",
    "        neg_ret = [ret for ret in whole_data[k:k+period] if ret < 0] \n",
    "        SortinoMV = np.std(neg_ret, ddof=1)\n",
    "        result_list.append(SortinoMV)\n",
    "    \n",
    "    df['Sortino_MV_'+str(period)] = df[col].rolling(window=period).std()\n",
    "    return result_list"
   ]
  },
  {
   "cell_type": "code",
   "execution_count": 13,
   "metadata": {
    "collapsed": true
   },
   "outputs": [],
   "source": [
    "for p in [10,30,60,100,150,260]:\n",
    "    calSMA(df,p,col = 'Close')\n",
    "    calEMA(df,p,col = 'Close')    "
   ]
  },
  {
   "cell_type": "code",
   "execution_count": 14,
   "metadata": {
    "collapsed": true
   },
   "outputs": [],
   "source": [
    "for p in [10,30,60,100,150,260]:\n",
    "    calMV(df,p,col = 'eodRet')\n",
    "    calSortinoMV(df,p,col = 'eodRet')"
   ]
  },
  {
   "cell_type": "markdown",
   "metadata": {},
   "source": [
    "### Function: Calculate Previous Day Range"
   ]
  },
  {
   "cell_type": "code",
   "execution_count": 15,
   "metadata": {
    "collapsed": true
   },
   "outputs": [],
   "source": [
    "def calPreviousDayrange(df,period):\n",
    "    df['Dayrange'] = df.apply(lambda row: row['High'] - row['Low'],axis = 1)\n",
    "    df['temp'] = df['Dayrange'].rolling(window=period).mean()\n",
    "    df[\"Prev_\"+str(period)+\"_AvDayrange\"] = df['temp'].shift(1)\n",
    "    df.drop('temp',axis = 1,inplace = True)\n",
    "    \n",
    "for p in [10,20,30]:\n",
    "    calPreviousDayrange(df,p)"
   ]
  },
  {
   "cell_type": "code",
   "execution_count": 16,
   "metadata": {},
   "outputs": [
    {
     "data": {
      "text/html": [
       "<div>\n",
       "<style scoped>\n",
       "    .dataframe tbody tr th:only-of-type {\n",
       "        vertical-align: middle;\n",
       "    }\n",
       "\n",
       "    .dataframe tbody tr th {\n",
       "        vertical-align: top;\n",
       "    }\n",
       "\n",
       "    .dataframe thead th {\n",
       "        text-align: right;\n",
       "    }\n",
       "</style>\n",
       "<table border=\"1\" class=\"dataframe\">\n",
       "  <thead>\n",
       "    <tr style=\"text-align: right;\">\n",
       "      <th></th>\n",
       "      <th>Date</th>\n",
       "      <th>Open</th>\n",
       "      <th>High</th>\n",
       "      <th>Low</th>\n",
       "      <th>Close</th>\n",
       "      <th>eodRet</th>\n",
       "      <th>pret1</th>\n",
       "      <th>pret3</th>\n",
       "      <th>pret5</th>\n",
       "      <th>pret10</th>\n",
       "      <th>...</th>\n",
       "      <th>MV_100</th>\n",
       "      <th>Sortino_MV_100</th>\n",
       "      <th>MV_150</th>\n",
       "      <th>Sortino_MV_150</th>\n",
       "      <th>MV_260</th>\n",
       "      <th>Sortino_MV_260</th>\n",
       "      <th>Dayrange</th>\n",
       "      <th>Prev_10_AvDayrange</th>\n",
       "      <th>Prev_20_AvDayrange</th>\n",
       "      <th>Prev_30_AvDayrange</th>\n",
       "    </tr>\n",
       "  </thead>\n",
       "  <tbody>\n",
       "    <tr>\n",
       "      <th>0</th>\n",
       "      <td>1997/09/10</td>\n",
       "      <td>933.75</td>\n",
       "      <td>934.25</td>\n",
       "      <td>916.75</td>\n",
       "      <td>915.25</td>\n",
       "      <td>NaN</td>\n",
       "      <td>NaN</td>\n",
       "      <td>NaN</td>\n",
       "      <td>NaN</td>\n",
       "      <td>NaN</td>\n",
       "      <td>...</td>\n",
       "      <td>NaN</td>\n",
       "      <td>NaN</td>\n",
       "      <td>NaN</td>\n",
       "      <td>NaN</td>\n",
       "      <td>NaN</td>\n",
       "      <td>NaN</td>\n",
       "      <td>17.50</td>\n",
       "      <td>NaN</td>\n",
       "      <td>NaN</td>\n",
       "      <td>NaN</td>\n",
       "    </tr>\n",
       "    <tr>\n",
       "      <th>1</th>\n",
       "      <td>1997/09/11</td>\n",
       "      <td>916.00</td>\n",
       "      <td>917.50</td>\n",
       "      <td>900.50</td>\n",
       "      <td>908.50</td>\n",
       "      <td>-0.007375</td>\n",
       "      <td>NaN</td>\n",
       "      <td>NaN</td>\n",
       "      <td>NaN</td>\n",
       "      <td>NaN</td>\n",
       "      <td>...</td>\n",
       "      <td>NaN</td>\n",
       "      <td>NaN</td>\n",
       "      <td>NaN</td>\n",
       "      <td>NaN</td>\n",
       "      <td>NaN</td>\n",
       "      <td>NaN</td>\n",
       "      <td>17.00</td>\n",
       "      <td>NaN</td>\n",
       "      <td>NaN</td>\n",
       "      <td>NaN</td>\n",
       "    </tr>\n",
       "    <tr>\n",
       "      <th>2</th>\n",
       "      <td>1997/09/12</td>\n",
       "      <td>908.00</td>\n",
       "      <td>926.25</td>\n",
       "      <td>904.00</td>\n",
       "      <td>924.00</td>\n",
       "      <td>0.017061</td>\n",
       "      <td>-0.007375</td>\n",
       "      <td>NaN</td>\n",
       "      <td>NaN</td>\n",
       "      <td>NaN</td>\n",
       "      <td>...</td>\n",
       "      <td>NaN</td>\n",
       "      <td>NaN</td>\n",
       "      <td>NaN</td>\n",
       "      <td>NaN</td>\n",
       "      <td>NaN</td>\n",
       "      <td>NaN</td>\n",
       "      <td>22.25</td>\n",
       "      <td>NaN</td>\n",
       "      <td>NaN</td>\n",
       "      <td>NaN</td>\n",
       "    </tr>\n",
       "    <tr>\n",
       "      <th>3</th>\n",
       "      <td>1997/09/15</td>\n",
       "      <td>924.75</td>\n",
       "      <td>930.00</td>\n",
       "      <td>919.50</td>\n",
       "      <td>921.75</td>\n",
       "      <td>-0.002435</td>\n",
       "      <td>0.017061</td>\n",
       "      <td>NaN</td>\n",
       "      <td>NaN</td>\n",
       "      <td>NaN</td>\n",
       "      <td>...</td>\n",
       "      <td>NaN</td>\n",
       "      <td>NaN</td>\n",
       "      <td>NaN</td>\n",
       "      <td>NaN</td>\n",
       "      <td>NaN</td>\n",
       "      <td>NaN</td>\n",
       "      <td>10.50</td>\n",
       "      <td>NaN</td>\n",
       "      <td>NaN</td>\n",
       "      <td>NaN</td>\n",
       "    </tr>\n",
       "    <tr>\n",
       "      <th>4</th>\n",
       "      <td>1997/09/16</td>\n",
       "      <td>922.50</td>\n",
       "      <td>949.25</td>\n",
       "      <td>921.00</td>\n",
       "      <td>946.25</td>\n",
       "      <td>0.026580</td>\n",
       "      <td>-0.002435</td>\n",
       "      <td>0.007102</td>\n",
       "      <td>NaN</td>\n",
       "      <td>NaN</td>\n",
       "      <td>...</td>\n",
       "      <td>NaN</td>\n",
       "      <td>NaN</td>\n",
       "      <td>NaN</td>\n",
       "      <td>NaN</td>\n",
       "      <td>NaN</td>\n",
       "      <td>NaN</td>\n",
       "      <td>28.25</td>\n",
       "      <td>NaN</td>\n",
       "      <td>NaN</td>\n",
       "      <td>NaN</td>\n",
       "    </tr>\n",
       "  </tbody>\n",
       "</table>\n",
       "<p>5 rows × 42 columns</p>\n",
       "</div>"
      ],
      "text/plain": [
       "         Date    Open    High     Low   Close    eodRet     pret1     pret3  \\\n",
       "0  1997/09/10  933.75  934.25  916.75  915.25       NaN       NaN       NaN   \n",
       "1  1997/09/11  916.00  917.50  900.50  908.50 -0.007375       NaN       NaN   \n",
       "2  1997/09/12  908.00  926.25  904.00  924.00  0.017061 -0.007375       NaN   \n",
       "3  1997/09/15  924.75  930.00  919.50  921.75 -0.002435  0.017061       NaN   \n",
       "4  1997/09/16  922.50  949.25  921.00  946.25  0.026580 -0.002435  0.007102   \n",
       "\n",
       "   pret5  pret10  ...  MV_100  Sortino_MV_100  MV_150  Sortino_MV_150  MV_260  \\\n",
       "0    NaN     NaN  ...     NaN             NaN     NaN             NaN     NaN   \n",
       "1    NaN     NaN  ...     NaN             NaN     NaN             NaN     NaN   \n",
       "2    NaN     NaN  ...     NaN             NaN     NaN             NaN     NaN   \n",
       "3    NaN     NaN  ...     NaN             NaN     NaN             NaN     NaN   \n",
       "4    NaN     NaN  ...     NaN             NaN     NaN             NaN     NaN   \n",
       "\n",
       "   Sortino_MV_260  Dayrange  Prev_10_AvDayrange  Prev_20_AvDayrange  \\\n",
       "0             NaN     17.50                 NaN                 NaN   \n",
       "1             NaN     17.00                 NaN                 NaN   \n",
       "2             NaN     22.25                 NaN                 NaN   \n",
       "3             NaN     10.50                 NaN                 NaN   \n",
       "4             NaN     28.25                 NaN                 NaN   \n",
       "\n",
       "   Prev_30_AvDayrange  \n",
       "0                 NaN  \n",
       "1                 NaN  \n",
       "2                 NaN  \n",
       "3                 NaN  \n",
       "4                 NaN  \n",
       "\n",
       "[5 rows x 42 columns]"
      ]
     },
     "execution_count": 16,
     "metadata": {},
     "output_type": "execute_result"
    }
   ],
   "source": [
    "df.head()"
   ]
  },
  {
   "cell_type": "code",
   "execution_count": 19,
   "metadata": {
    "scrolled": true
   },
   "outputs": [
    {
     "name": "stdout",
     "output_type": "stream",
     "text": [
      "Date\n",
      "Open\n",
      "High\n",
      "Low\n",
      "Close\n",
      "eodRet\n",
      "pret1\n",
      "pret3\n",
      "pret5\n",
      "pret10\n",
      "pret20\n",
      "pret30\n",
      "pret60\n",
      "pret100\n",
      "SMA_10\n",
      "EMA_10\n",
      "SMA_30\n",
      "EMA_30\n",
      "SMA_60\n",
      "EMA_60\n",
      "SMA_100\n",
      "EMA_100\n",
      "SMA_150\n",
      "EMA_150\n",
      "SMA_260\n",
      "EMA_260\n",
      "MV_10\n",
      "Sortino_MV_10\n",
      "MV_30\n",
      "Sortino_MV_30\n",
      "MV_60\n",
      "Sortino_MV_60\n",
      "MV_100\n",
      "Sortino_MV_100\n",
      "MV_150\n",
      "Sortino_MV_150\n",
      "MV_260\n",
      "Sortino_MV_260\n",
      "Dayrange\n",
      "Prev_10_AvDayrange\n",
      "Prev_20_AvDayrange\n",
      "Prev_30_AvDayrange\n"
     ]
    }
   ],
   "source": [
    "for col in df.columns:\n",
    "    print(col)"
   ]
  },
  {
   "cell_type": "code",
   "execution_count": 20,
   "metadata": {},
   "outputs": [
    {
     "data": {
      "text/plain": [
       "5515"
      ]
     },
     "execution_count": 20,
     "metadata": {},
     "output_type": "execute_result"
    }
   ],
   "source": [
    "len(df)"
   ]
  },
  {
   "cell_type": "code",
   "execution_count": 18,
   "metadata": {
    "collapsed": true
   },
   "outputs": [],
   "source": [
    "to_be_normalized_cols = df.columns[1:len(df.columns)]"
   ]
  },
  {
   "cell_type": "code",
   "execution_count": null,
   "metadata": {
    "collapsed": true
   },
   "outputs": [],
   "source": [
    "# df['Date'] = pd.to_datetime(df['Date'])\n",
    "# df.set_index('Date', inplace=True)"
   ]
  },
  {
   "cell_type": "markdown",
   "metadata": {},
   "source": [
    "### Functions: Calculate Z-Scores of Pre-Calculated Indicators"
   ]
  },
  {
   "cell_type": "code",
   "execution_count": 22,
   "metadata": {},
   "outputs": [
    {
     "name": "stdout",
     "output_type": "stream",
     "text": [
      "Index(['Date', 'Open', 'High', 'Low', 'Close', 'eodRet', 'pret1', 'pret3',\n",
      "       'pret5', 'pret10', 'pret20', 'pret30', 'pret60', 'pret100', 'SMA_10',\n",
      "       'EMA_10', 'SMA_30', 'EMA_30', 'SMA_60', 'EMA_60', 'SMA_100', 'EMA_100',\n",
      "       'SMA_150', 'EMA_150', 'SMA_260', 'EMA_260', 'MV_10', 'Sortino_MV_10',\n",
      "       'MV_30', 'Sortino_MV_30', 'MV_60', 'Sortino_MV_60', 'MV_100',\n",
      "       'Sortino_MV_100', 'MV_150', 'Sortino_MV_150', 'MV_260',\n",
      "       'Sortino_MV_260', 'Dayrange', 'Prev_10_AvDayrange',\n",
      "       'Prev_20_AvDayrange', 'Prev_30_AvDayrange'],\n",
      "      dtype='object')\n"
     ]
    }
   ],
   "source": [
    "def zCol(df,col,norm_period = 20):\n",
    "    if 'z_' in col:\n",
    "        return 0\n",
    "    df['temp_base_mean'] = df[col].rolling(window=norm_period).mean()\n",
    "    df['temp_base_mean'] = df['temp_base_mean'].shift(1)\n",
    "    df['temp_base_std'] = df[col].rolling(window=norm_period).std()\n",
    "    df['temp_base_std'] = df['temp_base_std'].shift(1)\n",
    "    df['z_'+col] = df.apply(lambda row: (row[col] - row['temp_base_mean'])/row['temp_base_std'] ,axis = 1)\n",
    "\n",
    "print(df.columns)\n",
    "\n",
    "for col in to_be_normalized_cols:\n",
    "    zCol(df,col)\n",
    "df.drop(['temp_base_mean','temp_base_std'],axis = 1,inplace = True)\n",
    "\n",
    "def zzCol(df,col,norm_period = 60):\n",
    "    if 'z_' in col:\n",
    "        return 0\n",
    "    df['temp_base_mean'] = df[col].rolling(window=norm_period).mean()\n",
    "    df['temp_base_mean'] = df['temp_base_mean'].shift(1)\n",
    "    df['temp_base_std'] = df[col].rolling(window=norm_period).std()\n",
    "    df['temp_base_std'] = df['temp_base_std'].shift(1)\n",
    "    df['zz_'+col] = df.apply(lambda row: (row[col] - row['temp_base_mean'])/row['temp_base_std'] ,axis = 1)\n",
    "\n",
    "print(df.columns)\n",
    "\n",
    "for col in to_be_normalized_cols:\n",
    "    zzCol(df,col)\n",
    "df.drop(['temp_base_mean','temp_base_std'],axis = 1,inplace = True)\n",
    "\n",
    "def zzzCol(df,col,norm_period = 260):\n",
    "    if 'z_' in col:\n",
    "        return 0\n",
    "    df['temp_base_mean'] = df[col].rolling(window=norm_period).mean()\n",
    "    df['temp_base_mean'] = df['temp_base_mean'].shift(1)\n",
    "    df['temp_base_std'] = df[col].rolling(window=norm_period).std()\n",
    "    df['temp_base_std'] = df['temp_base_std'].shift(1)\n",
    "    df['zzz_'+col] = df.apply(lambda row: (row[col] - row['temp_base_mean'])/row['temp_base_std'] ,axis = 1)\n",
    "\n",
    "print(df.columns)\n",
    "\n",
    "for col in to_be_normalized_cols:\n",
    "    zzzCol(df,col)\n",
    "df.drop(['temp_base_mean','temp_base_std'],axis = 1,inplace = True)"
   ]
  },
  {
   "cell_type": "code",
   "execution_count": 25,
   "metadata": {
    "collapsed": true
   },
   "outputs": [],
   "source": [
    "df.dropna(inplace=True)\n",
    "df.reset_index(drop=True,inplace=True)"
   ]
  },
  {
   "cell_type": "code",
   "execution_count": null,
   "metadata": {
    "collapsed": true
   },
   "outputs": [],
   "source": [
    "# basic calculation and output finished"
   ]
  },
  {
   "cell_type": "markdown",
   "metadata": {
    "collapsed": true
   },
   "source": [
    "### Functions: Construct Trend-following Strategies (with different parameters)"
   ]
  },
  {
   "cell_type": "code",
   "execution_count": 27,
   "metadata": {
    "collapsed": true
   },
   "outputs": [],
   "source": [
    "def create_FS_ret(df,F,S,MA_type = 'SMA',col = 'Close'):\n",
    "    F_str = str(F)\n",
    "    S_str = str(S)\n",
    "    f_col = MA_type +\"_\"+ F_str\n",
    "    s_col = MA_type +\"_\"+ S_str\n",
    "    \n",
    "    if f_col not in df.columns:\n",
    "        if MA_type == 'SMA':\n",
    "            calSMA(df,F,col)\n",
    "        elif MA_type == 'EMA':\n",
    "            calEMA(df,F,col)\n",
    "        else:\n",
    "            print(\"Illegal MA type!\")\n",
    "        \n",
    "    if s_col not in df.columns:\n",
    "        if MA_type == 'SMA':\n",
    "            calSMA(df,S,col)\n",
    "        elif MA_type == 'EMA':\n",
    "            calEMA(df,S,col)\n",
    "        else:\n",
    "            print(\"Illegal MA type!\")\n",
    "    \n",
    "    signal_col = MA_type+\"_\"+F_str+\"_\"+S_str+\"_Signal\"\n",
    "    df[signal_col] = df.apply(lambda row : 1 if (row[f_col] > row[s_col]) else -1 ,axis = 1)\n",
    "    df[signal_col] = df[signal_col].shift(1)\n",
    "    \n",
    "    calEndOfDayRet(df) # create column end of day Return\n",
    "    \n",
    "    return_col = MA_type+\"_\"+F_str+\"_\"+S_str+\"_Return\"\n",
    "    df[return_col] = df.apply(lambda row: row[signal_col]*row['eodRet'] ,axis = 1)\n",
    "    # df[\"Reverse_\"+return_col] = df.apply(lambda row: (-1)*row[signal_col]*row['eodRet'] ,axis = 1)\n",
    "\n",
    "    # signal_col is long/short decision for today based on information collected on the previous day\n",
    "    # eodRet is today's close price over yesterday's close price, namely the return from crossover strategy if we are in today\n",
    "    \n",
    "    # df.drop(signal_col,axis = 1,inplace = True)\n",
    "    \n",
    "    return df"
   ]
  },
  {
   "cell_type": "code",
   "execution_count": 28,
   "metadata": {
    "scrolled": true
   },
   "outputs": [
    {
     "name": "stdout",
     "output_type": "stream",
     "text": [
      "f,s:  10 30\n",
      "f,s:  10 60\n",
      "f,s:  10 100\n",
      "f,s:  10 150\n",
      "f,s:  10 260\n",
      "f,s:  30 60\n",
      "f,s:  30 100\n",
      "f,s:  30 150\n",
      "f,s:  30 260\n",
      "f,s:  60 100\n",
      "f,s:  60 150\n",
      "f,s:  60 260\n",
      "f,s:  100 150\n",
      "f,s:  100 260\n",
      "f,s:  150 260\n"
     ]
    }
   ],
   "source": [
    "fs_choices = [10,30,60,100,150,260]\n",
    "while len(fs_choices) > 0:\n",
    "    f = fs_choices.pop(0)\n",
    "    for s in fs_choices:\n",
    "        print(\"f,s: \",f,s)\n",
    "        df = create_FS_ret(df,f,s,'SMA')\n",
    "        df = create_FS_ret(df,f,s,'EMA')    "
   ]
  },
  {
   "cell_type": "code",
   "execution_count": 29,
   "metadata": {
    "collapsed": true
   },
   "outputs": [],
   "source": [
    "df.dropna(inplace = True)"
   ]
  },
  {
   "cell_type": "markdown",
   "metadata": {
    "collapsed": true
   },
   "source": [
    "### Functions: Construct Counter-trend Strategies (with different parameters)"
   ]
  },
  {
   "cell_type": "code",
   "execution_count": 31,
   "metadata": {
    "collapsed": true
   },
   "outputs": [],
   "source": [
    "df['Prev_high'] = df['High'].shift(1)\n",
    "df['Prev_low'] = df['Low'].shift(1)"
   ]
  },
  {
   "cell_type": "code",
   "execution_count": 32,
   "metadata": {
    "collapsed": true
   },
   "outputs": [],
   "source": [
    "def create_CT_ret(df,period,retracement): \n",
    "    # for long Counter-trend strategy\n",
    "    df[\"Hit_level\"] = df.apply(lambda row: row['Prev_high'] - row[\"Prev_\"+str(period)+\"_AvDayrange\"]*retracement, axis = 1)\n",
    "    df[\"Hit?\"] = df.apply(lambda row: 1 if row['Low'] < row[\"Hit_level\"] else 0 , axis = 1)\n",
    "    df[\"HitAt\"] = df.apply(lambda row: row['Open']*row['Hit?'] if row['Open'] < row[\"Hit_level\"] else row[\"Hit_level\"]*row['Hit?'] , axis = 1)\n",
    "    df[\"ExitPr\"] = df.apply(lambda row: row[\"Close\"]*row['Hit?'] , axis = 1)    \n",
    "    df[\"Long_\"+str(period)+\"_\"+str(retracement)+\"_Return\"] = df.apply(lambda row: (row[\"ExitPr\"]/row['HitAt']-1) if row['Hit?'] == 1 else 0 , axis = 1)\n",
    "    \n",
    "    df[\"Hit?\"+\"_long_\"+str(period)+\"_\"+str(retracement)] = df[\"Hit?\"]\n",
    "    #df[\"Long_short_\"+str(period)+\"_\"+str(retracement)+\"_Return\"] = df.apply(lambda row: (-1)*(row[\"ExitPr\"]/row['HitAt']-1) if row['Hit?'] == 1 else 0 , axis = 1)\n",
    "    # for short Counter-trend strategy\n",
    "    df[\"Hit_level\"] = df.apply(lambda row: row['Prev_low'] + row[\"Prev_\"+str(period)+\"_AvDayrange\"]*retracement, axis = 1)\n",
    "    df[\"Hit?\"] = df.apply(lambda row: 1 if row['High'] > row[\"Hit_level\"] else 0 , axis = 1)\n",
    "    df[\"HitAt\"] = df.apply(lambda row: row['Open']*row['Hit?'] if row['Open'] > row[\"Hit_level\"] else row[\"Hit_level\"]*row['Hit?'] , axis = 1)\n",
    "    df[\"ExitPr\"] = df.apply(lambda row: row[\"Close\"]*row['Hit?'] , axis = 1)    \n",
    "    df[\"Short_\"+str(period)+\"_\"+str(retracement)+\"_Return\"] = df.apply(lambda row: (row[\"ExitPr\"]/row['HitAt']-1) if row['Hit?'] == 1 else 0 , axis = 1)\n",
    "    \n",
    "    df[\"Hit?\"+\"_short_\"+str(period)+\"_\"+str(retracement)] = df[\"Hit?\"]\n",
    "    #df[\"Short_short_\"+str(period)+\"_\"+str(retracement)+\"_Return\"] = df.apply(lambda row: (-1)*(row[\"ExitPr\"]/row['HitAt']-1) if row['Hit?'] == 1 else 0 , axis = 1)\n",
    "      \n",
    "#     print(\"CT_\"+str(period)+\"_\"+str(retracement)+\"which---------\")\n",
    "#     # days of dayrange, then value of retracement\n",
    "#     df[\"CT\"+\"_\"+str(period)+\"_\"+str(retracement)+\"_Return\"] = df.apply(lambda row: , axis = 1)\n",
    "    \n",
    "    df.drop(['Hit_level','Hit?','HitAt','ExitPr'],axis = 1, inplace = True)"
   ]
  },
  {
   "cell_type": "code",
   "execution_count": 33,
   "metadata": {
    "collapsed": true
   },
   "outputs": [],
   "source": [
    "for p in [10,20,30]:\n",
    "    for r in [x/10 for x in range(6,30,4)]:\n",
    "        create_CT_ret(df,p,r)"
   ]
  },
  {
   "cell_type": "code",
   "execution_count": 34,
   "metadata": {
    "collapsed": true
   },
   "outputs": [],
   "source": [
    "df.drop(['Prev_high','Prev_low'],axis = 1,inplace = True)"
   ]
  },
  {
   "cell_type": "code",
   "execution_count": 35,
   "metadata": {
    "collapsed": true
   },
   "outputs": [],
   "source": [
    "df.dropna(inplace = True)"
   ]
  },
  {
   "cell_type": "code",
   "execution_count": 37,
   "metadata": {},
   "outputs": [
    {
     "data": {
      "text/html": [
       "<div>\n",
       "<style scoped>\n",
       "    .dataframe tbody tr th:only-of-type {\n",
       "        vertical-align: middle;\n",
       "    }\n",
       "\n",
       "    .dataframe tbody tr th {\n",
       "        vertical-align: top;\n",
       "    }\n",
       "\n",
       "    .dataframe thead th {\n",
       "        text-align: right;\n",
       "    }\n",
       "</style>\n",
       "<table border=\"1\" class=\"dataframe\">\n",
       "  <thead>\n",
       "    <tr style=\"text-align: right;\">\n",
       "      <th></th>\n",
       "      <th>Date</th>\n",
       "      <th>Open</th>\n",
       "      <th>High</th>\n",
       "      <th>Low</th>\n",
       "      <th>Close</th>\n",
       "      <th>eodRet</th>\n",
       "      <th>pret1</th>\n",
       "      <th>pret3</th>\n",
       "      <th>pret5</th>\n",
       "      <th>pret10</th>\n",
       "      <th>...</th>\n",
       "      <th>Short_30_1.8_Return</th>\n",
       "      <th>Hit?_short_30_1.8</th>\n",
       "      <th>Long_30_2.2_Return</th>\n",
       "      <th>Hit?_long_30_2.2</th>\n",
       "      <th>Short_30_2.2_Return</th>\n",
       "      <th>Hit?_short_30_2.2</th>\n",
       "      <th>Long_30_2.6_Return</th>\n",
       "      <th>Hit?_long_30_2.6</th>\n",
       "      <th>Short_30_2.6_Return</th>\n",
       "      <th>Hit?_short_30_2.6</th>\n",
       "    </tr>\n",
       "  </thead>\n",
       "  <tbody>\n",
       "    <tr>\n",
       "      <th>1</th>\n",
       "      <td>1999/10/05</td>\n",
       "      <td>1318.75</td>\n",
       "      <td>1331.25</td>\n",
       "      <td>1296.75</td>\n",
       "      <td>1315.7</td>\n",
       "      <td>-0.002275</td>\n",
       "      <td>0.019482</td>\n",
       "      <td>0.030315</td>\n",
       "      <td>0.017358</td>\n",
       "      <td>-0.022316</td>\n",
       "      <td>...</td>\n",
       "      <td>0.0</td>\n",
       "      <td>0</td>\n",
       "      <td>0.0</td>\n",
       "      <td>0</td>\n",
       "      <td>0.0</td>\n",
       "      <td>0</td>\n",
       "      <td>0.0</td>\n",
       "      <td>0</td>\n",
       "      <td>0.0</td>\n",
       "      <td>0</td>\n",
       "    </tr>\n",
       "    <tr>\n",
       "      <th>2</th>\n",
       "      <td>1999/10/06</td>\n",
       "      <td>1315.75</td>\n",
       "      <td>1337.75</td>\n",
       "      <td>1312.50</td>\n",
       "      <td>1334.7</td>\n",
       "      <td>0.014441</td>\n",
       "      <td>-0.002275</td>\n",
       "      <td>0.013480</td>\n",
       "      <td>0.016534</td>\n",
       "      <td>-0.006044</td>\n",
       "      <td>...</td>\n",
       "      <td>0.0</td>\n",
       "      <td>0</td>\n",
       "      <td>0.0</td>\n",
       "      <td>0</td>\n",
       "      <td>0.0</td>\n",
       "      <td>0</td>\n",
       "      <td>0.0</td>\n",
       "      <td>0</td>\n",
       "      <td>0.0</td>\n",
       "      <td>0</td>\n",
       "    </tr>\n",
       "    <tr>\n",
       "      <th>3</th>\n",
       "      <td>1999/10/07</td>\n",
       "      <td>1335.50</td>\n",
       "      <td>1340.75</td>\n",
       "      <td>1324.50</td>\n",
       "      <td>1329.0</td>\n",
       "      <td>-0.004271</td>\n",
       "      <td>0.014441</td>\n",
       "      <td>0.031852</td>\n",
       "      <td>0.042816</td>\n",
       "      <td>0.009759</td>\n",
       "      <td>...</td>\n",
       "      <td>0.0</td>\n",
       "      <td>0</td>\n",
       "      <td>0.0</td>\n",
       "      <td>0</td>\n",
       "      <td>0.0</td>\n",
       "      <td>0</td>\n",
       "      <td>0.0</td>\n",
       "      <td>0</td>\n",
       "      <td>0.0</td>\n",
       "      <td>0</td>\n",
       "    </tr>\n",
       "    <tr>\n",
       "      <th>4</th>\n",
       "      <td>1999/10/08</td>\n",
       "      <td>1328.75</td>\n",
       "      <td>1348.25</td>\n",
       "      <td>1318.25</td>\n",
       "      <td>1346.5</td>\n",
       "      <td>0.013168</td>\n",
       "      <td>-0.004271</td>\n",
       "      <td>0.007811</td>\n",
       "      <td>0.023725</td>\n",
       "      <td>0.029435</td>\n",
       "      <td>...</td>\n",
       "      <td>0.0</td>\n",
       "      <td>0</td>\n",
       "      <td>0.0</td>\n",
       "      <td>0</td>\n",
       "      <td>0.0</td>\n",
       "      <td>0</td>\n",
       "      <td>0.0</td>\n",
       "      <td>0</td>\n",
       "      <td>0.0</td>\n",
       "      <td>0</td>\n",
       "    </tr>\n",
       "    <tr>\n",
       "      <th>5</th>\n",
       "      <td>1999/10/11</td>\n",
       "      <td>1346.75</td>\n",
       "      <td>1350.50</td>\n",
       "      <td>1342.00</td>\n",
       "      <td>1347.0</td>\n",
       "      <td>0.000371</td>\n",
       "      <td>0.013168</td>\n",
       "      <td>0.023410</td>\n",
       "      <td>0.040974</td>\n",
       "      <td>0.045014</td>\n",
       "      <td>...</td>\n",
       "      <td>0.0</td>\n",
       "      <td>0</td>\n",
       "      <td>0.0</td>\n",
       "      <td>0</td>\n",
       "      <td>0.0</td>\n",
       "      <td>0</td>\n",
       "      <td>0.0</td>\n",
       "      <td>0</td>\n",
       "      <td>0.0</td>\n",
       "      <td>0</td>\n",
       "    </tr>\n",
       "  </tbody>\n",
       "</table>\n",
       "<p>5 rows × 297 columns</p>\n",
       "</div>"
      ],
      "text/plain": [
       "         Date     Open     High      Low   Close    eodRet     pret1  \\\n",
       "1  1999/10/05  1318.75  1331.25  1296.75  1315.7 -0.002275  0.019482   \n",
       "2  1999/10/06  1315.75  1337.75  1312.50  1334.7  0.014441 -0.002275   \n",
       "3  1999/10/07  1335.50  1340.75  1324.50  1329.0 -0.004271  0.014441   \n",
       "4  1999/10/08  1328.75  1348.25  1318.25  1346.5  0.013168 -0.004271   \n",
       "5  1999/10/11  1346.75  1350.50  1342.00  1347.0  0.000371  0.013168   \n",
       "\n",
       "      pret3     pret5    pret10  ...  Short_30_1.8_Return  Hit?_short_30_1.8  \\\n",
       "1  0.030315  0.017358 -0.022316  ...                  0.0                  0   \n",
       "2  0.013480  0.016534 -0.006044  ...                  0.0                  0   \n",
       "3  0.031852  0.042816  0.009759  ...                  0.0                  0   \n",
       "4  0.007811  0.023725  0.029435  ...                  0.0                  0   \n",
       "5  0.023410  0.040974  0.045014  ...                  0.0                  0   \n",
       "\n",
       "   Long_30_2.2_Return  Hit?_long_30_2.2  Short_30_2.2_Return  \\\n",
       "1                 0.0                 0                  0.0   \n",
       "2                 0.0                 0                  0.0   \n",
       "3                 0.0                 0                  0.0   \n",
       "4                 0.0                 0                  0.0   \n",
       "5                 0.0                 0                  0.0   \n",
       "\n",
       "   Hit?_short_30_2.2  Long_30_2.6_Return  Hit?_long_30_2.6  \\\n",
       "1                  0                 0.0                 0   \n",
       "2                  0                 0.0                 0   \n",
       "3                  0                 0.0                 0   \n",
       "4                  0                 0.0                 0   \n",
       "5                  0                 0.0                 0   \n",
       "\n",
       "   Short_30_2.6_Return  Hit?_short_30_2.6  \n",
       "1                  0.0                  0  \n",
       "2                  0.0                  0  \n",
       "3                  0.0                  0  \n",
       "4                  0.0                  0  \n",
       "5                  0.0                  0  \n",
       "\n",
       "[5 rows x 297 columns]"
      ]
     },
     "execution_count": 37,
     "metadata": {},
     "output_type": "execute_result"
    }
   ],
   "source": [
    "df.head()"
   ]
  },
  {
   "cell_type": "code",
   "execution_count": 38,
   "metadata": {},
   "outputs": [
    {
     "data": {
      "text/plain": [
       "4994"
      ]
     },
     "execution_count": 38,
     "metadata": {},
     "output_type": "execute_result"
    }
   ],
   "source": [
    "len(df)"
   ]
  },
  {
   "cell_type": "markdown",
   "metadata": {},
   "source": [
    "### Write out the csv file (as the data used in further analysis)"
   ]
  },
  {
   "cell_type": "code",
   "execution_count": 39,
   "metadata": {
    "collapsed": true
   },
   "outputs": [],
   "source": [
    "df.to_csv('strat_returns_with_signals_new.csv',index = False)"
   ]
  }
 ],
 "metadata": {
  "kernelspec": {
   "display_name": "Python 3",
   "language": "python",
   "name": "python3"
  },
  "language_info": {
   "codemirror_mode": {
    "name": "ipython",
    "version": 3
   },
   "file_extension": ".py",
   "mimetype": "text/x-python",
   "name": "python",
   "nbconvert_exporter": "python",
   "pygments_lexer": "ipython3",
   "version": "3.6.8"
  }
 },
 "nbformat": 4,
 "nbformat_minor": 2
}
